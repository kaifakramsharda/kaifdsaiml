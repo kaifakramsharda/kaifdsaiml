{
 "cells": [
  {
   "cell_type": "code",
   "execution_count": null,
   "id": "235c0f3d-58f4-4142-9bc2-4789164e3309",
   "metadata": {},
   "outputs": [],
   "source": [
    "\n",
    "import pandas as pd\n",
    "from sklearn.model_selection import train_test_split\n",
    "from sklearn.ensemble import RandomForestClassifier\n",
    "from sklearn.metrics import accuracy_score, classification_report\n",
    "\n",
    "\n",
    "file_path = \"indian-national-level-election.csv\"  # Replace with your actual file path\n",
    "election_data = pd.read_csv(\"indian-national-level-election.csv\")\n",
    "\n",
    "election_data['is_winner'] = election_data.groupby(['year', 'pc_no'])['totvotpoll'].transform(max) == election_data['totvotpoll']\n",
    "\n",
    "\n",
    "election_data['is_winner'] = election_data['is_winner'].astype(int)\n",
    "\n",
    "\n",
    "encoded_data = pd.get_dummies(election_data, columns=['partyabbre', 'cand_sex'], drop_first=True)\n",
    "\n",
    "features = encoded_data.drop(columns=['st_name', 'pc_name', 'cand_name', 'pc_type', 'partyname', 'totvotpoll', 'electors', 'is_winner'])\n",
    "\n",
    "\n",
    "target = encoded_data['is_winner']\n",
    "\n",
    "\n",
    "X_train, X_test, y_train, y_test = train_test_split(features, target, test_size=0.3, random_state=42)\n",
    "\n",
    "\n",
    "model = RandomForestClassifier(random_state=42)\n",
    "model.fit(X_train, y_train)\n",
    "\n",
    "\n",
    "y_pred = model.predict(X_test)\n",
    "accuracy = accuracy_score(y_test, y_pred)\n",
    "report = classification_report(y_test, y_pred)\n",
    "\n",
    "\n",
    "print(f\"Accuracy: {accuracy:.2f}\")\n",
    "print(\"Classification Report:\")\n",
    "print(report)\n"
   ]
  },
  {
   "cell_type": "code",
   "execution_count": null,
   "id": "ca6d4e4e-ee5d-4a00-bb0e-6b0f0ff62cfa",
   "metadata": {},
   "outputs": [],
   "source": []
  }
 ],
 "metadata": {
  "kernelspec": {
   "display_name": "Python 3 (ipykernel)",
   "language": "python",
   "name": "python3"
  },
  "language_info": {
   "codemirror_mode": {
    "name": "ipython",
    "version": 3
   },
   "file_extension": ".py",
   "mimetype": "text/x-python",
   "name": "python",
   "nbconvert_exporter": "python",
   "pygments_lexer": "ipython3",
   "version": "3.12.4"
  }
 },
 "nbformat": 4,
 "nbformat_minor": 5
}
